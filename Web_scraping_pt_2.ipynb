{
  "nbformat": 4,
  "nbformat_minor": 0,
  "metadata": {
    "colab": {
      "name": "Web scraping pt 2",
      "provenance": [],
      "authorship_tag": "ABX9TyPFbMX6EOuYfFORsg61Y1Bl",
      "include_colab_link": true
    },
    "kernelspec": {
      "name": "python3",
      "display_name": "Python 3"
    }
  },
  "cells": [
    {
      "cell_type": "markdown",
      "metadata": {
        "id": "view-in-github",
        "colab_type": "text"
      },
      "source": [
        "<a href=\"https://colab.research.google.com/github/AfredTX/AfredTX.github.io/blob/master/Web_scraping_pt_2.ipynb\" target=\"_parent\"><img src=\"https://colab.research.google.com/assets/colab-badge.svg\" alt=\"Open In Colab\"/></a>"
      ]
    },
    {
      "cell_type": "code",
      "metadata": {
        "id": "46MIHHUyW-ji",
        "colab_type": "code",
        "outputId": "ea0c89cb-2aac-4bda-b965-41c668090111",
        "colab": {
          "base_uri": "https://localhost:8080/",
          "height": 421
        }
      },
      "source": [
        "from time import time\n",
        "from time import sleep\n",
        "from random import randint\n",
        "from IPython.core.display import clear_output\n",
        "from warnings import warn\n",
        "from bs4 import BeautifulSoup\n",
        "import requests\n",
        "def get_space_news(space_url):\n",
        "  url = space_url \n",
        "  response = requests.get(url)\n",
        "  if(response.ok):\n",
        "    data = response.text\n",
        "    soup = BeautifulSoup(data, 'html.parser')\n",
        "    raw_news = soup.select('article')\n",
        "  for news in raw_news:\n",
        "    headline = news.select_one('div.content > header > h3').get_text()\n",
        "    author = news.select_one('div > header > p > span'). get_text().replace('\\n', '').lstrip().rstrip().strip('By  ')\n",
        "    synopsis = news.select_one('div.content > p').get_text().strip()\n",
        "    date = news.select_one('div > header > p > time').attrs['datetime']\n",
        "    news = {'headline': headline, 'author':author, 'synopsis': synopsis, 'date':date}\n",
        "    print(news)\n",
        "print(get_space_news('https://www.space.com/news'))"
      ],
      "execution_count": 0,
      "outputs": [
        {
          "output_type": "stream",
          "text": [
            "{'headline': 'Space photos: The most amazing images this week!', 'author': 'Doris Elin Urrutia', 'synopsis': 'Here are our picks for the most amazing space photos of the week.', 'date': '2020-02-16T15:24:48Z'}\n",
            "{'headline': 'The top space stories of the week!', 'author': 'Doris Elin Urrutia', 'synopsis': 'These are the top space stories this week from Space.com.', 'date': '2020-02-16T15:08:18Z'}\n",
            "{'headline': \"In photos: See the Antares rocket's Cygnus NG-13 cargo ship launch to space station\", 'author': 'Space.com Staff', 'synopsis': \"See photos of Northrop Grumman's amazing Antares rocket launch that sent the Cygnus NG-13 spacecraft to the International Space station on Feb. 15, 2020.\", 'date': '2020-02-16T14:13:49Z'}\n",
            "{'headline': \"On This Day in Space: Feb. 16, 1948: Gerard Kuiper discovers Uranus' moon Miranda\", 'author': 'Hanneke Weitering', 'synopsis': 'On Feb. 16, 1948, the Dutch-American astronomer Gerard Kuiper discovered Miranda, a moon of Uranus. See how it happened in our On This Day in Space video series!', 'date': '2020-02-16T13:19:45Z'}\n",
            "{'headline': 'What if Earth were a super-Earth?', 'author': 'Donavyn Coffe', 'synopsis': 'What would happen if our Earth were much larger than it is now?', 'date': '2020-02-16T13:14:43Z'}\n",
            "{'headline': 'Orion and its dimming star Betelgeuse shine over a stargazer in this sentimental night-sky photo', 'author': 'Miguel Claro', 'synopsis': \"A night-sky photo features a lonely stargazer admiring the beautiful constellation of Orion, the hunter — and it's strangely dimming star Betelgeuse.\", 'date': '2020-02-16T13:12:28Z'}\n",
            "{'headline': \"The lost continent of Zealandia hides clues to the Ring of Fire's birth\", 'author': 'Stephanie Pappas', 'synopsis': 'The lost continent of Zealandia underwent changes as subduction began around the western Pacific.', 'date': '2020-02-16T13:11:24Z'}\n",
            "{'headline': 'SpaceX delays launch of 60 Starlink satellites due to rocket valve checks', 'author': 'Amy Thompson', 'synopsis': \"SpaceX has postponed the launch of its next batch of Starlink satellites due to an issue with a valve component on the rocket's second stage.\", 'date': '2020-02-16T02:07:55Z'}\n",
            "{'headline': 'Northrop Grumman launches Cygnus cargo ship to space station for NASA', 'author': 'Tariq Malik', 'synopsis': 'A Northrop Grumman Antares rocket launched a commercial Cygnus cargo ship to the International Space Station for NASA after a week of delays.', 'date': '2020-02-15T20:44:08Z'}\n",
            "{'headline': \"One of Antarctica's fastest-shrinking glaciers just lost an iceberg twice the size of Washington, D.C.\", 'author': 'randon Specktor', 'synopsis': \"A huge chunk of ice twice the size of Washington, D.C., just broke off of Antarctica's Pine Island glacier, continuing a troubling trend that could signify glacial collapse.\", 'date': '2020-02-15T12:48:38Z'}\n",
            "{'headline': 'SpaceX Crew Dragon arrives at launch site for the 1st orbital crew flight from US soil since 2011', 'author': 'Mike Wall', 'synopsis': \"A SpaceX Crew Dragon capsule arrived on Florida's Space Coast on Thursday (Feb. 13), completing a cross-country trek from the company's California headquarters.\", 'date': '2020-02-15T12:33:50Z'}\n",
            "{'headline': \"Disney's new 'Rise of the Resistance' ride puts you in an epic 'Star Wars' battle\", 'author': 'Amy Thompson', 'synopsis': 'Have you ever wanted to join the Resistance and fight alongside Poe and Finn to free the galaxy from the tyrannical rule of the First Order?', 'date': '2020-02-15T12:24:33Z'}\n",
            "{'headline': \"You'll be able to make a reservation for Disney's Star Wars: Galactic Starcruiser this year\", 'author': 'Chelsea Gohd', 'synopsis': 'Soon, you will have a chance to reserve a spot on the ultraimmersive Star Wars: Galactic Starcruiser.', 'date': '2020-02-15T12:21:47Z'}\n",
            "{'headline': \"SETI search of interstellar Comet Borisov finds no sign of alien 'technosignatures'\", 'author': 'Mike Wall', 'synopsis': 'The Breakthrough Listen SETI project has scanned the interstellar Comet Borisov for \"technosignatures\" but come up empty so far.', 'date': '2020-02-15T00:17:29Z'}\n",
            "{'headline': 'SpaceX tests Falcon 9 rocket for next Starlink satellite fleet launch', 'author': 'Amy Thompson', 'synopsis': \"SpaceX just fired up the Falcon 9 rocket booster that will launch the company's next batch of Starlink satellites into space this weekend.\", 'date': '2020-02-14T23:23:19Z'}\n",
            "{'headline': \"Puppy love! Astronaut's reunion with her dog after a nearly yearlong flight made us cry\", 'author': 'Chelsea Gohd', 'synopsis': 'Koch was welcomed home to Earth by her sweet dog LBD.', 'date': '2020-02-14T22:25:47Z'}\n",
            "{'headline': \"Google Doodle celebrates Valentine's Day 2020 with super-adorable aliens\", 'author': 'Tariq Malik', 'synopsis': \"It's Valentine's Day and the folks at Google are celebrating with a tale of love across the universe between two adorable aliens.\", 'date': '2020-02-14T22:09:02Z'}\n",
            "{'headline': \"Valentine's Day Cygnus cargo ship launch to space station delayed by high winds\", 'author': 'Tariq Malik', 'synopsis': \"Northrop Grumman's Valentine's Day cargo launch to the International Space Station has been delayed by at least 24 hours due to high winds, NASA says.\", 'date': '2020-02-14T20:52:01Z'}\n",
            "{'headline': \"Pearl Jam gets cosmic with 'Superblood Wolfmoon' AR experience, new album\", 'author': 'Steve Spaleta', 'synopsis': 'The promotion for Pearl Jam\\'s new record \"Gigaton\" is full of cosmic visuals and a \"Superblood Wolfmoon\" AR Experience.', 'date': '2020-02-14T20:48:26Z'}\n",
            "{'headline': \"Virgin Galactic's VSS Unity space plane arrives at New Mexico spaceport\", 'author': 'Mike Wall', 'synopsis': \"The company's newest SpaceShipTwo vehicle, VSS Unity, arrived yesterday (Feb. 13) at Spaceport America in New Mexico, the hub of Virgin Galactic's commercial operations.\", 'date': '2020-02-14T20:05:41Z'}\n",
            "None\n"
          ],
          "name": "stdout"
        }
      ]
    },
    {
      "cell_type": "code",
      "metadata": {
        "id": "zdVM6y9XZfSI",
        "colab_type": "code",
        "colab": {}
      },
      "source": [
        ""
      ],
      "execution_count": 0,
      "outputs": []
    },
    {
      "cell_type": "code",
      "metadata": {
        "id": "Dr22gA5ZRj3Q",
        "colab_type": "code",
        "colab": {}
      },
      "source": [
        ""
      ],
      "execution_count": 0,
      "outputs": []
    }
  ]
}